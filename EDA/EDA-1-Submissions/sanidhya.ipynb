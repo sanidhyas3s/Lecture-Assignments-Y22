{
 "cells": [
  {
   "cell_type": "markdown",
   "metadata": {},
   "source": [
    "# EDA-1 Assignment\n",
    "Submission by Sanidhya Singh\n",
    "\n",
    "## Problem 1\n",
    "\n",
    "### Task 1"
   ]
  },
  {
   "cell_type": "code",
   "execution_count": 30,
   "metadata": {},
   "outputs": [],
   "source": [
    "import pandas as pd\n",
    "import numpy as np\n",
    "import matplotlib.pyplot as plt\n",
    "import seaborn as sb"
   ]
  },
  {
   "cell_type": "markdown",
   "metadata": {},
   "source": [
    "### Task 3"
   ]
  },
  {
   "cell_type": "code",
   "execution_count": 31,
   "metadata": {},
   "outputs": [
    {
     "data": {
      "text/html": [
       "<div>\n",
       "<style scoped>\n",
       "    .dataframe tbody tr th:only-of-type {\n",
       "        vertical-align: middle;\n",
       "    }\n",
       "\n",
       "    .dataframe tbody tr th {\n",
       "        vertical-align: top;\n",
       "    }\n",
       "\n",
       "    .dataframe thead th {\n",
       "        text-align: right;\n",
       "    }\n",
       "</style>\n",
       "<table border=\"1\" class=\"dataframe\">\n",
       "  <thead>\n",
       "    <tr style=\"text-align: right;\">\n",
       "      <th></th>\n",
       "      <th>Unnamed: 0</th>\n",
       "      <th>pokedex_number</th>\n",
       "      <th>name</th>\n",
       "      <th>german_name</th>\n",
       "      <th>japanese_name</th>\n",
       "      <th>generation</th>\n",
       "      <th>status</th>\n",
       "      <th>species</th>\n",
       "      <th>type_number</th>\n",
       "      <th>type_1</th>\n",
       "      <th>...</th>\n",
       "      <th>against_ground</th>\n",
       "      <th>against_flying</th>\n",
       "      <th>against_psychic</th>\n",
       "      <th>against_bug</th>\n",
       "      <th>against_rock</th>\n",
       "      <th>against_ghost</th>\n",
       "      <th>against_dragon</th>\n",
       "      <th>against_dark</th>\n",
       "      <th>against_steel</th>\n",
       "      <th>against_fairy</th>\n",
       "    </tr>\n",
       "  </thead>\n",
       "  <tbody>\n",
       "    <tr>\n",
       "      <th>0</th>\n",
       "      <td>0</td>\n",
       "      <td>1</td>\n",
       "      <td>Bulbasaur</td>\n",
       "      <td>Bisasam</td>\n",
       "      <td>フシギダネ (Fushigidane)</td>\n",
       "      <td>1</td>\n",
       "      <td>Normal</td>\n",
       "      <td>Seed Pokémon</td>\n",
       "      <td>2</td>\n",
       "      <td>Grass</td>\n",
       "      <td>...</td>\n",
       "      <td>1.0</td>\n",
       "      <td>2.0</td>\n",
       "      <td>2.0</td>\n",
       "      <td>1.0</td>\n",
       "      <td>1.0</td>\n",
       "      <td>1.0</td>\n",
       "      <td>1.0</td>\n",
       "      <td>1.0</td>\n",
       "      <td>1.0</td>\n",
       "      <td>0.5</td>\n",
       "    </tr>\n",
       "    <tr>\n",
       "      <th>1</th>\n",
       "      <td>1</td>\n",
       "      <td>2</td>\n",
       "      <td>Ivysaur</td>\n",
       "      <td>Bisaknosp</td>\n",
       "      <td>フシギソウ (Fushigisou)</td>\n",
       "      <td>1</td>\n",
       "      <td>Normal</td>\n",
       "      <td>Seed Pokémon</td>\n",
       "      <td>2</td>\n",
       "      <td>Grass</td>\n",
       "      <td>...</td>\n",
       "      <td>1.0</td>\n",
       "      <td>2.0</td>\n",
       "      <td>2.0</td>\n",
       "      <td>1.0</td>\n",
       "      <td>1.0</td>\n",
       "      <td>1.0</td>\n",
       "      <td>1.0</td>\n",
       "      <td>1.0</td>\n",
       "      <td>1.0</td>\n",
       "      <td>0.5</td>\n",
       "    </tr>\n",
       "    <tr>\n",
       "      <th>2</th>\n",
       "      <td>2</td>\n",
       "      <td>3</td>\n",
       "      <td>Venusaur</td>\n",
       "      <td>Bisaflor</td>\n",
       "      <td>フシギバナ (Fushigibana)</td>\n",
       "      <td>1</td>\n",
       "      <td>Normal</td>\n",
       "      <td>Seed Pokémon</td>\n",
       "      <td>2</td>\n",
       "      <td>Grass</td>\n",
       "      <td>...</td>\n",
       "      <td>1.0</td>\n",
       "      <td>2.0</td>\n",
       "      <td>2.0</td>\n",
       "      <td>1.0</td>\n",
       "      <td>1.0</td>\n",
       "      <td>1.0</td>\n",
       "      <td>1.0</td>\n",
       "      <td>1.0</td>\n",
       "      <td>1.0</td>\n",
       "      <td>0.5</td>\n",
       "    </tr>\n",
       "    <tr>\n",
       "      <th>3</th>\n",
       "      <td>3</td>\n",
       "      <td>3</td>\n",
       "      <td>Mega Venusaur</td>\n",
       "      <td>Bisaflor</td>\n",
       "      <td>フシギバナ (Fushigibana)</td>\n",
       "      <td>1</td>\n",
       "      <td>Normal</td>\n",
       "      <td>Seed Pokémon</td>\n",
       "      <td>2</td>\n",
       "      <td>Grass</td>\n",
       "      <td>...</td>\n",
       "      <td>1.0</td>\n",
       "      <td>2.0</td>\n",
       "      <td>2.0</td>\n",
       "      <td>1.0</td>\n",
       "      <td>1.0</td>\n",
       "      <td>1.0</td>\n",
       "      <td>1.0</td>\n",
       "      <td>1.0</td>\n",
       "      <td>1.0</td>\n",
       "      <td>0.5</td>\n",
       "    </tr>\n",
       "    <tr>\n",
       "      <th>4</th>\n",
       "      <td>4</td>\n",
       "      <td>4</td>\n",
       "      <td>Charmander</td>\n",
       "      <td>Glumanda</td>\n",
       "      <td>ヒトカゲ (Hitokage)</td>\n",
       "      <td>1</td>\n",
       "      <td>Normal</td>\n",
       "      <td>Lizard Pokémon</td>\n",
       "      <td>1</td>\n",
       "      <td>Fire</td>\n",
       "      <td>...</td>\n",
       "      <td>2.0</td>\n",
       "      <td>1.0</td>\n",
       "      <td>1.0</td>\n",
       "      <td>0.5</td>\n",
       "      <td>2.0</td>\n",
       "      <td>1.0</td>\n",
       "      <td>1.0</td>\n",
       "      <td>1.0</td>\n",
       "      <td>0.5</td>\n",
       "      <td>0.5</td>\n",
       "    </tr>\n",
       "  </tbody>\n",
       "</table>\n",
       "<p>5 rows × 51 columns</p>\n",
       "</div>"
      ],
      "text/plain": [
       "   Unnamed: 0  pokedex_number           name german_name        japanese_name  \\\n",
       "0           0               1      Bulbasaur     Bisasam  フシギダネ (Fushigidane)   \n",
       "1           1               2        Ivysaur   Bisaknosp   フシギソウ (Fushigisou)   \n",
       "2           2               3       Venusaur    Bisaflor  フシギバナ (Fushigibana)   \n",
       "3           3               3  Mega Venusaur    Bisaflor  フシギバナ (Fushigibana)   \n",
       "4           4               4     Charmander    Glumanda      ヒトカゲ (Hitokage)   \n",
       "\n",
       "   generation  status         species  type_number type_1  ... against_ground  \\\n",
       "0           1  Normal    Seed Pokémon            2  Grass  ...            1.0   \n",
       "1           1  Normal    Seed Pokémon            2  Grass  ...            1.0   \n",
       "2           1  Normal    Seed Pokémon            2  Grass  ...            1.0   \n",
       "3           1  Normal    Seed Pokémon            2  Grass  ...            1.0   \n",
       "4           1  Normal  Lizard Pokémon            1   Fire  ...            2.0   \n",
       "\n",
       "   against_flying  against_psychic  against_bug against_rock against_ghost  \\\n",
       "0             2.0              2.0          1.0          1.0           1.0   \n",
       "1             2.0              2.0          1.0          1.0           1.0   \n",
       "2             2.0              2.0          1.0          1.0           1.0   \n",
       "3             2.0              2.0          1.0          1.0           1.0   \n",
       "4             1.0              1.0          0.5          2.0           1.0   \n",
       "\n",
       "  against_dragon  against_dark  against_steel  against_fairy  \n",
       "0            1.0           1.0            1.0            0.5  \n",
       "1            1.0           1.0            1.0            0.5  \n",
       "2            1.0           1.0            1.0            0.5  \n",
       "3            1.0           1.0            1.0            0.5  \n",
       "4            1.0           1.0            0.5            0.5  \n",
       "\n",
       "[5 rows x 51 columns]"
      ]
     },
     "execution_count": 31,
     "metadata": {},
     "output_type": "execute_result"
    }
   ],
   "source": [
    "pokemons = pd.read_csv('./Data/pokedex_(Update_05.20).csv')\n",
    "pokemons.head()"
   ]
  },
  {
   "cell_type": "code",
   "execution_count": 32,
   "metadata": {},
   "outputs": [
    {
     "name": "stdout",
     "output_type": "stream",
     "text": [
      "<class 'pandas.core.frame.DataFrame'>\n",
      "RangeIndex: 1028 entries, 0 to 1027\n",
      "Data columns (total 51 columns):\n",
      " #   Column            Non-Null Count  Dtype  \n",
      "---  ------            --------------  -----  \n",
      " 0   Unnamed: 0        1028 non-null   int64  \n",
      " 1   pokedex_number    1028 non-null   int64  \n",
      " 2   name              1028 non-null   object \n",
      " 3   german_name       938 non-null    object \n",
      " 4   japanese_name     938 non-null    object \n",
      " 5   generation        1028 non-null   int64  \n",
      " 6   status            1028 non-null   object \n",
      " 7   species           1028 non-null   object \n",
      " 8   type_number       1028 non-null   int64  \n",
      " 9   type_1            1028 non-null   object \n",
      " 10  type_2            542 non-null    object \n",
      " 11  height_m          1028 non-null   float64\n",
      " 12  weight_kg         1027 non-null   float64\n",
      " 13  abilities_number  1028 non-null   int64  \n",
      " 14  ability_1         1025 non-null   object \n",
      " 15  ability_2         513 non-null    object \n",
      " 16  ability_hidden    810 non-null    object \n",
      " 17  total_points      1028 non-null   float64\n",
      " 18  hp                1028 non-null   float64\n",
      " 19  attack            1028 non-null   float64\n",
      " 20  defense           1028 non-null   float64\n",
      " 21  sp_attack         1028 non-null   float64\n",
      " 22  sp_defense        1028 non-null   float64\n",
      " 23  speed             1028 non-null   float64\n",
      " 24  catch_rate        924 non-null    float64\n",
      " 25  base_friendship   924 non-null    float64\n",
      " 26  base_experience   924 non-null    float64\n",
      " 27  growth_rate       1027 non-null   object \n",
      " 28  egg_type_number   1028 non-null   int64  \n",
      " 29  egg_type_1        1025 non-null   object \n",
      " 30  egg_type_2        282 non-null    object \n",
      " 31  percentage_male   792 non-null    float64\n",
      " 32  egg_cycles        1027 non-null   float64\n",
      " 33  against_normal    1028 non-null   float64\n",
      " 34  against_fire      1028 non-null   float64\n",
      " 35  against_water     1028 non-null   float64\n",
      " 36  against_electric  1028 non-null   float64\n",
      " 37  against_grass     1028 non-null   float64\n",
      " 38  against_ice       1028 non-null   float64\n",
      " 39  against_fight     1028 non-null   float64\n",
      " 40  against_poison    1028 non-null   float64\n",
      " 41  against_ground    1028 non-null   float64\n",
      " 42  against_flying    1028 non-null   float64\n",
      " 43  against_psychic   1028 non-null   float64\n",
      " 44  against_bug       1028 non-null   float64\n",
      " 45  against_rock      1028 non-null   float64\n",
      " 46  against_ghost     1028 non-null   float64\n",
      " 47  against_dragon    1028 non-null   float64\n",
      " 48  against_dark      1028 non-null   float64\n",
      " 49  against_steel     1028 non-null   float64\n",
      " 50  against_fairy     1028 non-null   float64\n",
      "dtypes: float64(32), int64(6), object(13)\n",
      "memory usage: 409.7+ KB\n"
     ]
    }
   ],
   "source": [
    "pokemons.info()"
   ]
  },
  {
   "cell_type": "markdown",
   "metadata": {},
   "source": [
    "> How many Pokemon are in each Generation?"
   ]
  },
  {
   "cell_type": "code",
   "execution_count": 33,
   "metadata": {},
   "outputs": [
    {
     "data": {
      "text/plain": [
       "1    192\n",
       "2    107\n",
       "3    165\n",
       "4    121\n",
       "5    171\n",
       "6     85\n",
       "7     99\n",
       "8     88\n",
       "Name: generation, dtype: int64"
      ]
     },
     "execution_count": 33,
     "metadata": {},
     "output_type": "execute_result"
    }
   ],
   "source": [
    "pokemons['generation'].value_counts().sort_index()"
   ]
  },
  {
   "cell_type": "markdown",
   "metadata": {},
   "source": [
    "> Who is the most powerful pokemon ?\n",
    "\n",
    "Assuming the pokemon with the maximum points will be the most powerful pokemon."
   ]
  },
  {
   "cell_type": "code",
   "execution_count": 39,
   "metadata": {},
   "outputs": [
    {
     "name": "stdout",
     "output_type": "stream",
     "text": [
      "The most powerful pokemon: Eternatus Eternamax\n"
     ]
    }
   ],
   "source": [
    "print(f\"The most powerful pokemon: {pokemons['name'][pokemons['total_points'].argmax()]}\")"
   ]
  },
  {
   "cell_type": "markdown",
   "metadata": {},
   "source": [
    "##### Verification of the result\n",
    "According to win.gg:\n",
    "[The Eternamax version of Eternatus is the strongest Pokemon in the history of the series.](https://win.gg/news/all-there-is-to-know-about-eternatus-in-pokemon-sword-and-shield/#:~:text=Is%20Eternatus%20the%20strongest%20Pokemon,such%20as%20Mew%20and%20Tyranitar.)"
   ]
  },
  {
   "cell_type": "markdown",
   "metadata": {},
   "source": [
    "> In terms of dual types (Pokemon with 2 different types), What is the most common combination?"
   ]
  },
  {
   "cell_type": "code",
   "execution_count": 34,
   "metadata": {},
   "outputs": [
    {
     "name": "stdout",
     "output_type": "stream",
     "text": [
      "The most frequent combination of two types: Normal and Flying\n"
     ]
    }
   ],
   "source": [
    "pokemons['types']=pokemons['type_1']+\" and \"+pokemons['type_2']\n",
    "print(f\"The most frequent combination of two types: {pokemons['types'].value_counts().idxmax()}\")"
   ]
  },
  {
   "cell_type": "markdown",
   "metadata": {},
   "source": [
    "> Present the names of the Pokemons having Maximum and Minimum Feature Values corresponding to `attack` , `defense` , `sp_attack` , `sp_defense` , `hp` , `speed` and `catch_rate`."
   ]
  },
  {
   "cell_type": "code",
   "execution_count": 35,
   "metadata": {},
   "outputs": [
    {
     "data": {
      "text/html": [
       "<div>\n",
       "<style scoped>\n",
       "    .dataframe tbody tr th:only-of-type {\n",
       "        vertical-align: middle;\n",
       "    }\n",
       "\n",
       "    .dataframe tbody tr th {\n",
       "        vertical-align: top;\n",
       "    }\n",
       "\n",
       "    .dataframe thead th {\n",
       "        text-align: right;\n",
       "    }\n",
       "</style>\n",
       "<table border=\"1\" class=\"dataframe\">\n",
       "  <thead>\n",
       "    <tr style=\"text-align: right;\">\n",
       "      <th></th>\n",
       "      <th>features</th>\n",
       "      <th>minimum</th>\n",
       "      <th>maximum</th>\n",
       "    </tr>\n",
       "  </thead>\n",
       "  <tbody>\n",
       "    <tr>\n",
       "      <th>0</th>\n",
       "      <td>attack</td>\n",
       "      <td>Chansey</td>\n",
       "      <td>Mega Mewtwo X</td>\n",
       "    </tr>\n",
       "    <tr>\n",
       "      <th>1</th>\n",
       "      <td>defense</td>\n",
       "      <td>Chansey</td>\n",
       "      <td>Eternatus Eternamax</td>\n",
       "    </tr>\n",
       "    <tr>\n",
       "      <th>2</th>\n",
       "      <td>sp_attack</td>\n",
       "      <td>Alolan Sandshrew</td>\n",
       "      <td>Mega Mewtwo Y</td>\n",
       "    </tr>\n",
       "    <tr>\n",
       "      <th>3</th>\n",
       "      <td>sp_defense</td>\n",
       "      <td>Caterpie</td>\n",
       "      <td>Eternatus Eternamax</td>\n",
       "    </tr>\n",
       "    <tr>\n",
       "      <th>4</th>\n",
       "      <td>hp</td>\n",
       "      <td>Shedinja</td>\n",
       "      <td>Blissey</td>\n",
       "    </tr>\n",
       "    <tr>\n",
       "      <th>5</th>\n",
       "      <td>speed</td>\n",
       "      <td>Shuckle</td>\n",
       "      <td>Deoxys Speed Forme</td>\n",
       "    </tr>\n",
       "    <tr>\n",
       "      <th>6</th>\n",
       "      <td>catch_rate</td>\n",
       "      <td>Articuno</td>\n",
       "      <td>Caterpie</td>\n",
       "    </tr>\n",
       "  </tbody>\n",
       "</table>\n",
       "</div>"
      ],
      "text/plain": [
       "     features           minimum              maximum\n",
       "0      attack           Chansey        Mega Mewtwo X\n",
       "1     defense           Chansey  Eternatus Eternamax\n",
       "2   sp_attack  Alolan Sandshrew        Mega Mewtwo Y\n",
       "3  sp_defense          Caterpie  Eternatus Eternamax\n",
       "4          hp          Shedinja              Blissey\n",
       "5       speed           Shuckle   Deoxys Speed Forme\n",
       "6  catch_rate          Articuno             Caterpie"
      ]
     },
     "execution_count": 35,
     "metadata": {},
     "output_type": "execute_result"
    }
   ],
   "source": [
    "features = ['attack','defense','sp_attack','sp_defense','hp','speed','catch_rate']\n",
    "minmax = {'features': features,\n",
    "          'minimum': [pokemons['name'][pokemons[feature].argmin()] for feature in features],\n",
    "          'maximum': [pokemons['name'][pokemons[feature].argmax()] for feature in features]}\n",
    "minmax = pd.DataFrame(minmax)\n",
    "minmax"
   ]
  }
 ],
 "metadata": {
  "kernelspec": {
   "display_name": "Python 3.10.4 ('sanidhya')",
   "language": "python",
   "name": "python3"
  },
  "language_info": {
   "codemirror_mode": {
    "name": "ipython",
    "version": 3
   },
   "file_extension": ".py",
   "mimetype": "text/x-python",
   "name": "python",
   "nbconvert_exporter": "python",
   "pygments_lexer": "ipython3",
   "version": "3.10.4"
  },
  "orig_nbformat": 4,
  "vscode": {
   "interpreter": {
    "hash": "2bacc47fb30e79c416523fd6d38e12cf4db42b1b90ed599253bca3b88ca4ff8c"
   }
  }
 },
 "nbformat": 4,
 "nbformat_minor": 2
}
